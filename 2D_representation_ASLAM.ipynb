{
 "cells": [
  {
   "cell_type": "code",
   "execution_count": 1,
   "id": "4dfe5758",
   "metadata": {},
   "outputs": [
    {
     "data": {
      "image/png": "[encoded data removed]",
      "text/plain": [
       "<Figure size 432x288 with 1 Axes>"
      ]
     },
     "metadata": {
      "needs_background": "light"
     },
     "output_type": "display_data"
    }
   ],
   "source": [
    "import numpy as np\n",
    "import matplotlib.pyplot as plt\n",
    "\n",
    "# Simple Q-learning algorithm for action selection\n",
    "class QLearning:\n",
    "    def __init__(self, num_actions):\n",
    "        self.num_actions = num_actions\n",
    "        self.Q = np.zeros((num_actions,))\n",
    "\n",
    "    def select_action(self, state):\n",
    "        return np.argmax(self.Q)\n",
    "\n",
    "    def update(self, action, reward, alpha, gamma):\n",
    "        td_target = reward + gamma * np.max(self.Q)\n",
    "        td_error = td_target - self.Q[action]\n",
    "        self.Q[action] += alpha * td_error\n",
    "\n",
    "# Simulated robot movement and sensing\n",
    "def move_robot(current_pose, movement):\n",
    "    new_pose = current_pose + movement\n",
    "    return new_pose\n",
    "\n",
    "def take_measurement(robot_pose):\n",
    "    # Simulate sensor measurement\n",
    "    measurement = np.random.normal(robot_pose, 0.1)\n",
    "    return measurement\n",
    "\n",
    "def main():\n",
    "    robot_pose = np.array([0, 0])\n",
    "    global_path = np.array([[1, 2], [3, 4], [5, 6]])\n",
    "\n",
    "    num_actions = 4  # Example: up, down, left, right\n",
    "    q_learning = QLearning(num_actions)\n",
    "    alpha = 0.1  # Learning rate\n",
    "    gamma = 0.9  # Discount factor\n",
    "\n",
    "    plt.scatter(global_path[:, 0], global_path[:, 1], color='black', s=100)  # Plot the global path as black dots\n",
    "\n",
    "    max_attempts = 100  # Limit the number of attempts\n",
    "\n",
    "    curve_points = []\n",
    "    num_points = 20  # Number of points on the circular path\n",
    "\n",
    "    # Generate circular path points\n",
    "    for i in range(num_points):\n",
    "        x = 3 * np.cos(2 * np.pi * i / num_points) + 2  # Equation for x-coordinate of a circle\n",
    "        y = 3 * np.sin(2 * np.pi * i / num_points) + 4  # Equation for y-coordinate of a circle\n",
    "        curve_points.append([x, y])\n",
    "\n",
    "    movements = {0: np.array([0, 1]), 1: np.array([0, -1]), 2: np.array([-1, 0]), 3: np.array([1, 0])}\n",
    "\n",
    "    arrows = []  # Store arrows for plotting the path\n",
    "\n",
    "    for destination in global_path:\n",
    "        attempts = 0\n",
    "        while not np.array_equal(robot_pose, destination) and attempts < max_attempts:\n",
    "            if len(curve_points) > 0:\n",
    "                action = q_learning.select_action(0)  # Select an action based on Q-learning\n",
    "\n",
    "                target_point = np.array(curve_points[0])\n",
    "                movement = target_point - robot_pose\n",
    "\n",
    "                robot_pose = move_robot(robot_pose, movement)\n",
    "\n",
    "                arrows.append(np.array([robot_pose - movement, robot_pose]))\n",
    "\n",
    "                if np.array_equal(robot_pose, target_point):\n",
    "                    curve_points.pop(0)\n",
    "\n",
    "            else:\n",
    "                action = q_learning.select_action(0)  # Select an action based on Q-learning\n",
    "\n",
    "                movement = movements[action]  # Get movement corresponding to the action\n",
    "\n",
    "                robot_pose = move_robot(robot_pose, movement)\n",
    "\n",
    "                arrows.append(np.array([robot_pose - movement, robot_pose]))\n",
    "\n",
    "            attempts += 1\n",
    "\n",
    "    for arrow in arrows:\n",
    "        plt.quiver(arrow[0][0], arrow[0][1], arrow[1][0] - arrow[0][0], arrow[1][1] - arrow[0][1], scale_units='xy', angles='xy', scale=1)\n",
    "\n",
    "    plt.show()  # Display the map with the robot's path\n",
    "\n",
    "if __name__ == \"__main__\":\n",
    "    main()\n"
   ]
  },
  {
   "cell_type": "code",
   "execution_count": null,
   "id": "3f34858c",
   "metadata": {},
   "outputs": [],
   "source": []
  }
 ],
 "metadata": {
  "kernelspec": {
   "display_name": "Python 3",
   "language": "python",
   "name": "python3"
  },
  "language_info": {
   "codemirror_mode": {
    "name": "ipython",
    "version": 3
   },
   "file_extension": ".py",
   "mimetype": "text/x-python",
   "name": "python",
   "nbconvert_exporter": "python",
   "pygments_lexer": "ipython3",
   "version": "3.8.8"
  }
 },
 "nbformat": 4,
 "nbformat_minor": 5
}
